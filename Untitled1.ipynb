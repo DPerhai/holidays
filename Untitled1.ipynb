{
 "cells": [
  {
   "cell_type": "code",
   "execution_count": 1,
   "id": "23d01953",
   "metadata": {},
   "outputs": [],
   "source": [
    "import requests\n",
    "from bs4 import BeautifulSoup\n",
    "url = 'https://news.ycombinator.com/active'\n",
    "res = requests.get(url)\n",
    "soup = BeautifulSoup(res.text, 'html.parser')"
   ]
  },
  {
   "cell_type": "code",
   "execution_count": 23,
   "id": "5db9cfaf",
   "metadata": {},
   "outputs": [
    {
     "data": {
      "text/plain": [
       "['https://www.washingtonpost.com/media/2022/12/15/twitter-journalists-suspended-musk/',\n",
       " 'https://www.washingtonpost.com/media/2022/12/15/twitter-journalists-suspended-musk/',\n",
       " 'https://www.washingtonpost.com/media/2022/12/15/twitter-journalists-suspended-musk/',\n",
       " 'https://www.washingtonpost.com/media/2022/12/15/twitter-journalists-suspended-musk/',\n",
       " 'https://www.washingtonpost.com/media/2022/12/15/twitter-journalists-suspended-musk/',\n",
       " 'https://www.washingtonpost.com/media/2022/12/15/twitter-journalists-suspended-musk/',\n",
       " 'https://www.washingtonpost.com/media/2022/12/15/twitter-journalists-suspended-musk/',\n",
       " 'https://www.washingtonpost.com/media/2022/12/15/twitter-journalists-suspended-musk/',\n",
       " 'https://www.washingtonpost.com/media/2022/12/15/twitter-journalists-suspended-musk/',\n",
       " 'https://www.washingtonpost.com/media/2022/12/15/twitter-journalists-suspended-musk/',\n",
       " 'https://www.washingtonpost.com/media/2022/12/15/twitter-journalists-suspended-musk/',\n",
       " 'https://www.washingtonpost.com/media/2022/12/15/twitter-journalists-suspended-musk/',\n",
       " 'https://www.washingtonpost.com/media/2022/12/15/twitter-journalists-suspended-musk/',\n",
       " 'https://www.washingtonpost.com/media/2022/12/15/twitter-journalists-suspended-musk/',\n",
       " 'https://www.washingtonpost.com/media/2022/12/15/twitter-journalists-suspended-musk/',\n",
       " 'https://www.washingtonpost.com/media/2022/12/15/twitter-journalists-suspended-musk/',\n",
       " 'https://www.washingtonpost.com/media/2022/12/15/twitter-journalists-suspended-musk/',\n",
       " 'https://www.washingtonpost.com/media/2022/12/15/twitter-journalists-suspended-musk/',\n",
       " 'https://www.washingtonpost.com/media/2022/12/15/twitter-journalists-suspended-musk/',\n",
       " 'https://www.washingtonpost.com/media/2022/12/15/twitter-journalists-suspended-musk/',\n",
       " 'https://www.washingtonpost.com/media/2022/12/15/twitter-journalists-suspended-musk/',\n",
       " 'https://www.washingtonpost.com/media/2022/12/15/twitter-journalists-suspended-musk/',\n",
       " 'https://www.washingtonpost.com/media/2022/12/15/twitter-journalists-suspended-musk/',\n",
       " 'https://www.washingtonpost.com/media/2022/12/15/twitter-journalists-suspended-musk/',\n",
       " 'https://www.washingtonpost.com/media/2022/12/15/twitter-journalists-suspended-musk/',\n",
       " 'https://www.washingtonpost.com/media/2022/12/15/twitter-journalists-suspended-musk/',\n",
       " 'https://www.washingtonpost.com/media/2022/12/15/twitter-journalists-suspended-musk/',\n",
       " 'https://www.washingtonpost.com/media/2022/12/15/twitter-journalists-suspended-musk/',\n",
       " 'https://www.washingtonpost.com/media/2022/12/15/twitter-journalists-suspended-musk/',\n",
       " 'https://www.washingtonpost.com/media/2022/12/15/twitter-journalists-suspended-musk/']"
      ]
     },
     "execution_count": 23,
     "metadata": {},
     "output_type": "execute_result"
    }
   ],
   "source": [
    "links = []\n",
    "for i in range(30):\n",
    "    i = 0    \n",
    "    t = soup.find_all('table')[2]\n",
    "    trs = t.find_all('tr')\n",
    "    headline = trs[i]\n",
    "    info = trs[i+1]\n",
    "    headline_link = headline.find_all('a')[1]\n",
    "    link = headline_link.attrs['href']\n",
    "    links.append(link)\n",
    "links\n"
   ]
  },
  {
   "cell_type": "code",
   "execution_count": 19,
   "id": "aeb4d8e3",
   "metadata": {},
   "outputs": [
    {
     "data": {
      "text/plain": [
       "'https://www.washingtonpost.com/media/2022/12/15/twitter-journalists-suspended-musk/'"
      ]
     },
     "execution_count": 19,
     "metadata": {},
     "output_type": "execute_result"
    }
   ],
   "source": [
    "link"
   ]
  },
  {
   "cell_type": "code",
   "execution_count": 15,
   "id": "cc471563",
   "metadata": {},
   "outputs": [],
   "source": []
  },
  {
   "cell_type": "code",
   "execution_count": 17,
   "id": "36284187",
   "metadata": {},
   "outputs": [
    {
     "data": {
      "text/plain": [
       "'https://www.washingtonpost.com/media/2022/12/15/twitter-journalists-suspended-musk/'"
      ]
     },
     "execution_count": 17,
     "metadata": {},
     "output_type": "execute_result"
    }
   ],
   "source": []
  },
  {
   "cell_type": "code",
   "execution_count": null,
   "id": "7798e743",
   "metadata": {},
   "outputs": [],
   "source": []
  }
 ],
 "metadata": {
  "kernelspec": {
   "display_name": "Python 3 (ipykernel)",
   "language": "python",
   "name": "python3"
  },
  "language_info": {
   "codemirror_mode": {
    "name": "ipython",
    "version": 3
   },
   "file_extension": ".py",
   "mimetype": "text/x-python",
   "name": "python",
   "nbconvert_exporter": "python",
   "pygments_lexer": "ipython3",
   "version": "3.9.12"
  }
 },
 "nbformat": 4,
 "nbformat_minor": 5
}
